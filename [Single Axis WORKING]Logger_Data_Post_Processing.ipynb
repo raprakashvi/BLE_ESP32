{
 "cells": [
  {
   "cell_type": "markdown",
   "metadata": {},
   "source": [
    "## ESP32<>nrfConnect<>Python\n",
    "\n",
    "\n",
    "##### MPU_BLE_acc_x sketch\n",
    "\n",
    "\n",
    "\n",
    "\n",
    "\n"
   ]
  },
  {
   "cell_type": "markdown",
   "metadata": {},
   "source": [
    "#### What to do with the odd hex data being received from the nrfLogger in text form? Kindly follow the below mentioned steps. "
   ]
  },
  {
   "cell_type": "markdown",
   "metadata": {},
   "source": [
    "The codes used here has been developed by Ravi Prakash with directional important inputs from Saksham Jain \n"
   ]
  },
  {
   "cell_type": "markdown",
   "metadata": {},
   "source": [
    "Installling libraries for the normal functioning of our program. In absence of any of the below library please uncomment and run the code or write the most updated version following the syntax.\n"
   ]
  },
  {
   "cell_type": "code",
   "execution_count": 441,
   "metadata": {},
   "outputs": [],
   "source": [
    "#!pip3 install pyserial    \n",
    "#!pip3 install numpy\n",
    "#!pip3 install scipy\n",
    "#!pip3 install matplotlib\n",
    "#!pip3 install pyqtgraph \n"
   ]
  },
  {
   "cell_type": "markdown",
   "metadata": {},
   "source": [
    "Note: The above code install libraries for Python version >= 3.0. If by god's grace you find yourself using Python 2.0, please use \"!pip\" instead of \"!pip3\". \n",
    "\n",
    "!pip install pyserial // for Python version 2.x\n",
    "!pip3 install pyserial // for Python version 3.x\n",
    "\n",
    "Run the below code for importing the libraries"
   ]
  },
  {
   "cell_type": "code",
   "execution_count": 510,
   "metadata": {},
   "outputs": [],
   "source": [
    "import serial\n",
    "import numpy as np\n",
    "import pandas as pd\n",
    "import scipy.fftpack\n",
    "import datetime as dt\n",
    "import time\n",
    "from matplotlib.pyplot import figure\n",
    "import matplotlib.pyplot as plt\n",
    "import matplotlib.ticker as ticker\n",
    "import os\n",
    "import re\n",
    "import datetime"
   ]
  },
  {
   "cell_type": "markdown",
   "metadata": {},
   "source": [
    "Background: We receive the data from nrfConnect in text file format. Not all of it is the data that \"we need\" and some filtering has to be done. \n",
    "\n",
    "To save time and effort, this script can be used to :\n",
    "- open a text file\n",
    "- filter out the extact acceleration data(X,Y,Z) that we need in String format\n",
    "- convert the data to int\n",
    "- plot a beautiful graph given the gathered data is beautiful"
   ]
  },
  {
   "cell_type": "code",
   "execution_count": 511,
   "metadata": {},
   "outputs": [
    {
     "data": {
      "text/html": [
       "<div>\n",
       "<style scoped>\n",
       "    .dataframe tbody tr th:only-of-type {\n",
       "        vertical-align: middle;\n",
       "    }\n",
       "\n",
       "    .dataframe tbody tr th {\n",
       "        vertical-align: top;\n",
       "    }\n",
       "\n",
       "    .dataframe thead th {\n",
       "        text-align: right;\n",
       "    }\n",
       "</style>\n",
       "<table border=\"1\" class=\"dataframe\">\n",
       "  <thead>\n",
       "    <tr style=\"text-align: right;\">\n",
       "      <th></th>\n",
       "      <th>0</th>\n",
       "      <th>1</th>\n",
       "      <th>2</th>\n",
       "    </tr>\n",
       "  </thead>\n",
       "  <tbody>\n",
       "    <tr>\n",
       "      <th>30</th>\n",
       "      <td>A</td>\n",
       "      <td>03:50:23.395</td>\n",
       "      <td>\"Notifications enabled\" sent</td>\n",
       "    </tr>\n",
       "    <tr>\n",
       "      <th>33</th>\n",
       "      <td>A</td>\n",
       "      <td>03:50:24.956</td>\n",
       "      <td>\"(0x) 2D-31-35-36-32-30, \"-15620\"\" received</td>\n",
       "    </tr>\n",
       "    <tr>\n",
       "      <th>35</th>\n",
       "      <td>A</td>\n",
       "      <td>03:50:26.932</td>\n",
       "      <td>\"(0x) 2D-31-35-36-34-30, \"-15640\"\" received</td>\n",
       "    </tr>\n",
       "    <tr>\n",
       "      <th>37</th>\n",
       "      <td>A</td>\n",
       "      <td>03:50:28.914</td>\n",
       "      <td>\"(0x) 2D-31-35-35-36-30, \"-15560\"\" received</td>\n",
       "    </tr>\n",
       "    <tr>\n",
       "      <th>39</th>\n",
       "      <td>A</td>\n",
       "      <td>03:50:30.938</td>\n",
       "      <td>\"(0x) 2D-31-35-36-30-38, \"-15608\"\" received</td>\n",
       "    </tr>\n",
       "    <tr>\n",
       "      <th>...</th>\n",
       "      <td>...</td>\n",
       "      <td>...</td>\n",
       "      <td>...</td>\n",
       "    </tr>\n",
       "    <tr>\n",
       "      <th>18883</th>\n",
       "      <td>A</td>\n",
       "      <td>04:01:42.095</td>\n",
       "      <td>\"(0x) 32-32-30, \"220\"\" received</td>\n",
       "    </tr>\n",
       "    <tr>\n",
       "      <th>18885</th>\n",
       "      <td>A</td>\n",
       "      <td>04:01:42.103</td>\n",
       "      <td>\"(0x) 31-39-32, \"192\"\" received</td>\n",
       "    </tr>\n",
       "    <tr>\n",
       "      <th>18887</th>\n",
       "      <td>A</td>\n",
       "      <td>04:01:42.110</td>\n",
       "      <td>\"(0x) 31-37-32, \"172\"\" received</td>\n",
       "    </tr>\n",
       "    <tr>\n",
       "      <th>18889</th>\n",
       "      <td>A</td>\n",
       "      <td>04:01:42.118</td>\n",
       "      <td>\"(0x) 31-34-34, \"144\"\" received</td>\n",
       "    </tr>\n",
       "    <tr>\n",
       "      <th>18891</th>\n",
       "      <td>A</td>\n",
       "      <td>04:01:42.125</td>\n",
       "      <td>\"(0x) 32-32-38, \"228\"\" received</td>\n",
       "    </tr>\n",
       "  </tbody>\n",
       "</table>\n",
       "<p>9402 rows × 3 columns</p>\n",
       "</div>"
      ],
      "text/plain": [
       "       0             1                                            2\n",
       "30     A  03:50:23.395                 \"Notifications enabled\" sent\n",
       "33     A  03:50:24.956  \"(0x) 2D-31-35-36-32-30, \"-15620\"\" received\n",
       "35     A  03:50:26.932  \"(0x) 2D-31-35-36-34-30, \"-15640\"\" received\n",
       "37     A  03:50:28.914  \"(0x) 2D-31-35-35-36-30, \"-15560\"\" received\n",
       "39     A  03:50:30.938  \"(0x) 2D-31-35-36-30-38, \"-15608\"\" received\n",
       "...   ..           ...                                          ...\n",
       "18883  A  04:01:42.095              \"(0x) 32-32-30, \"220\"\" received\n",
       "18885  A  04:01:42.103              \"(0x) 31-39-32, \"192\"\" received\n",
       "18887  A  04:01:42.110              \"(0x) 31-37-32, \"172\"\" received\n",
       "18889  A  04:01:42.118              \"(0x) 31-34-34, \"144\"\" received\n",
       "18891  A  04:01:42.125              \"(0x) 32-32-38, \"228\"\" received\n",
       "\n",
       "[9402 rows x 3 columns]"
      ]
     },
     "execution_count": 511,
     "metadata": {},
     "output_type": "execute_result"
    }
   ],
   "source": [
    "f = open(\"Log_210227_3.txt\", \"r\") #open a text file in \"read only\" mode\n",
    "f1=f.read() #storing the file data into a variable as String\n",
    "\n",
    "f2=f1.split(\"\\n\") #Splitting the data at every line \n",
    "f3=pd.DataFrame({\"raw_data\":f2,\"index\":0}) #Creating a DataFrame to store the split data into different lines \n",
    "\n",
    "f4=f3  # Just a  intermediary variable\n",
    "\n",
    "#filters out the values which has \"A\" as an index in the first column\n",
    "f5=f4.set_index('raw_data').filter(regex='^A', axis=0) \n",
    "\n",
    "f6=f4[\"raw_data\"].str.split(\"\\t\", n = 2, expand = True) #Splitting raw data values in two at every space(\"\\t\")\n",
    "f7 = f6[f6[0]==\"A\"] \n",
    "f8=pd.DataFrame(columns=[\"time\",\"hex_data\"]) \n",
    "\n",
    "f7"
   ]
  },
  {
   "cell_type": "markdown",
   "metadata": {},
   "source": [
    "As you see, this data has lots of unwanted things and the index on the left is alternating numbers and it might even contain NAN [values. \n",
    "Time for additional processing. "
   ]
  },
  {
   "cell_type": "code",
   "execution_count": 512,
   "metadata": {},
   "outputs": [],
   "source": [
    "# Using regex to extraxt the data that we need. \n",
    "pattern = '\\\"(\\-?\\d\\d+)'\n",
    "regex=re.compile(pattern)\n",
    "#applying the extraction to every row\n",
    "f8[\"hex_data\"]=f7[2].apply(lambda x: regex.findall(x))\n",
    "\n",
    "#if want to extract time in date time format\n",
    "#f8[\"time\"] = f7[1].apply(lambda x: datetime.datetime.strptime(x, '%H:%M:%S.%f').time()) \n",
    "\n",
    "f8[\"time\"] = f7[1]\n",
    "f9=f8\n",
    "f9.dropna()\n",
    "\n",
    "f9[\"hex_data\"]= f9[\"hex_data\"].apply(lambda x: pd.to_numeric(x))*5.9814*0.0001 #( dividing by 16384 and multiplying by 9.8)\n",
    "\n",
    "f9[\"hex_data\"]= f9[\"hex_data\"] \n"
   ]
  },
  {
   "cell_type": "code",
   "execution_count": 513,
   "metadata": {},
   "outputs": [],
   "source": [
    "f9= f9[f9[\"hex_data\"].astype(bool)]\n",
    "#I don't know what this statement did but it worked. Looks like we are forcefully converting the \"hex_data\" column to bool \n",
    "# and every empty array would become FALSE and every array with numbers will be TRUE. Then it would create a new dataframe\n",
    "# with the true values for the rows. "
   ]
  },
  {
   "cell_type": "code",
   "execution_count": 514,
   "metadata": {},
   "outputs": [
    {
     "data": {
      "text/html": [
       "<div>\n",
       "<style scoped>\n",
       "    .dataframe tbody tr th:only-of-type {\n",
       "        vertical-align: middle;\n",
       "    }\n",
       "\n",
       "    .dataframe tbody tr th {\n",
       "        vertical-align: top;\n",
       "    }\n",
       "\n",
       "    .dataframe thead th {\n",
       "        text-align: right;\n",
       "    }\n",
       "</style>\n",
       "<table border=\"1\" class=\"dataframe\">\n",
       "  <thead>\n",
       "    <tr style=\"text-align: right;\">\n",
       "      <th></th>\n",
       "      <th>time</th>\n",
       "      <th>hex_data</th>\n",
       "    </tr>\n",
       "  </thead>\n",
       "  <tbody>\n",
       "    <tr>\n",
       "      <th>count</th>\n",
       "      <td>9347</td>\n",
       "      <td>9347</td>\n",
       "    </tr>\n",
       "    <tr>\n",
       "      <th>unique</th>\n",
       "      <td>8124</td>\n",
       "      <td>2699</td>\n",
       "    </tr>\n",
       "    <tr>\n",
       "      <th>top</th>\n",
       "      <td>04:00:50.572</td>\n",
       "      <td>[9.395583120000001]</td>\n",
       "    </tr>\n",
       "    <tr>\n",
       "      <th>freq</th>\n",
       "      <td>8</td>\n",
       "      <td>44</td>\n",
       "    </tr>\n",
       "  </tbody>\n",
       "</table>\n",
       "</div>"
      ],
      "text/plain": [
       "                time             hex_data\n",
       "count           9347                 9347\n",
       "unique          8124                 2699\n",
       "top     04:00:50.572  [9.395583120000001]\n",
       "freq               8                   44"
      ]
     },
     "execution_count": 514,
     "metadata": {},
     "output_type": "execute_result"
    }
   ],
   "source": [
    "f9.describe()"
   ]
  },
  {
   "cell_type": "code",
   "execution_count": 523,
   "metadata": {},
   "outputs": [
    {
     "data": {
      "image/png": "[encoded data removed]",
      "text/plain": [
       "<Figure size 1440x720 with 1 Axes>"
      ]
     },
     "metadata": {
      "needs_background": "light"
     },
     "output_type": "display_data"
    }
   ],
   "source": [
    "fig, ax = plt.subplots(1, 1,figsize=(20,10)) \n",
    "\n",
    "ax.plot(f9[\"time\"], f9[\"hex_data\"], '-b', label='AccZ') \n",
    "ax.xaxis.set_major_locator(ticker.MultipleLocator(1000)) \n",
    "ax.yaxis.set_major_locator(ticker.MultipleLocator(2)) \n",
    "plt.xlabel(\"Real Time\")\n",
    "plt.ylabel(\"Acceleration Z\")\n",
    "plt.show()"
   ]
  },
  {
   "cell_type": "markdown",
   "metadata": {},
   "source": [
    "## Resource"
   ]
  },
  {
   "cell_type": "code",
   "execution_count": 473,
   "metadata": {},
   "outputs": [],
   "source": [
    "#Converting the columns to integer from base 16 if the data is coming as hex\n",
    "f10['Acc_X'] = f10['Acc_X'].apply(lambda x: int(x,16))\n",
    "f10['Acc_Y'] = f10['Acc_Y'].apply(lambda x: int(x,16))\n",
    "f10['Acc_Z'] = f10['Acc_Z'].apply(lambda x: int(x,16))"
   ]
  },
  {
   "cell_type": "code",
   "execution_count": 474,
   "metadata": {},
   "outputs": [],
   "source": [
    "#find the first occurance of something in a column\n",
    "f10[\"Index\"].loc[f10['Acc_X'] == '\" r'].argmax()"
   ]
  },
  {
   "cell_type": "code",
   "execution_count": 475,
   "metadata": {},
   "outputs": [],
   "source": [
    "#Plot a graph\n",
    "plt.plot(f10[\"time\"], f10[\"Acc_Y\"]) "
   ]
  },
  {
   "cell_type": "code",
   "execution_count": 478,
   "metadata": {},
   "outputs": [],
   "source": [
    "#Drop rows matching a particular column value\n",
    "f10[\"Acc_X\"]=f10.drop(f10[f10[\"Acc_X\"] =='\" r'].index, inplace = True)\n"
   ]
  },
  {
   "cell_type": "code",
   "execution_count": null,
   "metadata": {},
   "outputs": [],
   "source": [
    "#f8[\"hex_data\"] = f7[2].str.split(\"rece\", n =1 , expand = True)\n",
    "f8[\"hex_data\"]=f7[2].str[5:35]  # In column no 2 (actually 3)\n",
    "# 5:14 comes from our observation that the data starts at 5 and ends at 14 \n",
    "# It ignores rest of the values"
   ]
  },
  {
   "cell_type": "code",
   "execution_count": null,
   "metadata": {},
   "outputs": [],
   "source": [
    "#if want to extract time\n",
    "f8[\"time\"] = f7[1].apply(lambda x: datetime.datetime.strptime(x, '%H:%M:%S.%f').time()) "
   ]
  }
 ],
 "metadata": {
  "kernelspec": {
   "display_name": "Python 3",
   "language": "python",
   "name": "python3"
  },
  "language_info": {
   "codemirror_mode": {
    "name": "ipython",
    "version": 3
   },
   "file_extension": ".py",
   "mimetype": "text/x-python",
   "name": "python",
   "nbconvert_exporter": "python",
   "pygments_lexer": "ipython3",
   "version": "3.6.12"
  }
 },
 "nbformat": 4,
 "nbformat_minor": 4
}
