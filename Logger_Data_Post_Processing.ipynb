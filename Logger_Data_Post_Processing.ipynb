{
 "cells": [
  {
   "cell_type": "markdown",
   "metadata": {},
   "source": [
    "## ESP32<>nrfConnect<>Python\n",
    "\n",
    "\n",
    "\n",
    "\n",
    "\n"
   ]
  },
  {
   "cell_type": "markdown",
   "metadata": {},
   "source": [
    "#### What to do with the weird hex data being received from the nrfLogger in text form? Kindly follow the below mentioned steps. "
   ]
  },
  {
   "cell_type": "markdown",
   "metadata": {},
   "source": [
    "The codes used here has been developed by Ravi Prakash with directional important inputs from Saksham Jain \n"
   ]
  },
  {
   "cell_type": "markdown",
   "metadata": {},
   "source": [
    "Installling libraries for the normal functioning of our program. In absence of any of the below library please uncomment and run the code or write the most updated version following the syntax."
   ]
  },
  {
   "cell_type": "code",
   "execution_count": 441,
   "metadata": {},
   "outputs": [],
   "source": [
    "#!pip3 install pyserial    \n",
    "#!pip3 install numpy\n",
    "#!pip3 install scipy\n",
    "#!pip3 install matplotlib\n",
    "#!pip3 install pyqtgraph \n"
   ]
  },
  {
   "cell_type": "markdown",
   "metadata": {},
   "source": [
    "Note: The above code install libraries for Python version >= 3.0. If by god's grace you find yourself using Python 2.0, please use \"!pip\" instead of \"!pip3\". \n",
    "\n",
    "!pip install pyserial // for Python version 2.x\n",
    "!pip3 install pyserial // for Python version 3.x\n",
    "\n",
    "Run the below code for importing the libraries"
   ]
  },
  {
   "cell_type": "code",
   "execution_count": 455,
   "metadata": {},
   "outputs": [],
   "source": [
    "import serial\n",
    "import numpy as np\n",
    "import pandas as pd\n",
    "import scipy.fftpack\n",
    "import datetime as dt\n",
    "import time\n",
    "import matplotlib.pyplot as plt\n",
    "from pyqtgraph.Qt import QtGui, QtCore\n",
    "import pyqtgraph as pg\n",
    "import os\n",
    "from io import StringIO as io   "
   ]
  },
  {
   "cell_type": "markdown",
   "metadata": {},
   "source": [
    "Background: We receive the data from nrfConnect in text file format. Not all of it is the data that \"we need\" and some filtering has to be done. \n",
    "\n",
    "To save time and effort, this script can be used to :\n",
    "- open a text file\n",
    "- filter out the extact acceleration data(X,Y,Z) that we need in String format\n",
    "- convert the data to int\n",
    "- plot a beautiful graph given the gathered data is beautiful"
   ]
  },
  {
   "cell_type": "code",
   "execution_count": 457,
   "metadata": {
    "scrolled": true
   },
   "outputs": [
    {
     "data": {
      "text/html": [
       "<div>\n",
       "<style scoped>\n",
       "    .dataframe tbody tr th:only-of-type {\n",
       "        vertical-align: middle;\n",
       "    }\n",
       "\n",
       "    .dataframe tbody tr th {\n",
       "        vertical-align: top;\n",
       "    }\n",
       "\n",
       "    .dataframe thead th {\n",
       "        text-align: right;\n",
       "    }\n",
       "</style>\n",
       "<table border=\"1\" class=\"dataframe\">\n",
       "  <thead>\n",
       "    <tr style=\"text-align: right;\">\n",
       "      <th></th>\n",
       "      <th>0</th>\n",
       "      <th>1</th>\n",
       "      <th>2</th>\n",
       "    </tr>\n",
       "  </thead>\n",
       "  <tbody>\n",
       "    <tr>\n",
       "      <th>38</th>\n",
       "      <td>A</td>\n",
       "      <td>19:21:42.311</td>\n",
       "      <td>\"Notifications enabled\" sent</td>\n",
       "    </tr>\n",
       "    <tr>\n",
       "      <th>41</th>\n",
       "      <td>A</td>\n",
       "      <td>19:21:43.999</td>\n",
       "      <td>\"(0x) 01\" received</td>\n",
       "    </tr>\n",
       "    <tr>\n",
       "      <th>43</th>\n",
       "      <td>A</td>\n",
       "      <td>19:21:46.024</td>\n",
       "      <td>\"(0x) 01\" received</td>\n",
       "    </tr>\n",
       "    <tr>\n",
       "      <th>45</th>\n",
       "      <td>A</td>\n",
       "      <td>19:21:48.004</td>\n",
       "      <td>\"(0x) 01\" received</td>\n",
       "    </tr>\n",
       "    <tr>\n",
       "      <th>49</th>\n",
       "      <td>A</td>\n",
       "      <td>19:21:49.737</td>\n",
       "      <td>\"Between 0 to 1000 Hz\" received</td>\n",
       "    </tr>\n",
       "    <tr>\n",
       "      <th>...</th>\n",
       "      <td>...</td>\n",
       "      <td>...</td>\n",
       "      <td>...</td>\n",
       "    </tr>\n",
       "    <tr>\n",
       "      <th>1044</th>\n",
       "      <td>A</td>\n",
       "      <td>19:37:59.051</td>\n",
       "      <td>\"(0x) 01-AB-2C\" received</td>\n",
       "    </tr>\n",
       "    <tr>\n",
       "      <th>1046</th>\n",
       "      <td>A</td>\n",
       "      <td>19:38:01.078</td>\n",
       "      <td>\"(0x) 01-AC-2C\" received</td>\n",
       "    </tr>\n",
       "    <tr>\n",
       "      <th>1048</th>\n",
       "      <td>A</td>\n",
       "      <td>19:38:03.059</td>\n",
       "      <td>\"(0x) 01-AD-2C\" received</td>\n",
       "    </tr>\n",
       "    <tr>\n",
       "      <th>1050</th>\n",
       "      <td>A</td>\n",
       "      <td>19:38:05.086</td>\n",
       "      <td>\"(0x) 01-AE-2C\" received</td>\n",
       "    </tr>\n",
       "    <tr>\n",
       "      <th>1052</th>\n",
       "      <td>A</td>\n",
       "      <td>19:38:07.063</td>\n",
       "      <td>\"(0x) 01-AF-2C\" received</td>\n",
       "    </tr>\n",
       "  </tbody>\n",
       "</table>\n",
       "<p>472 rows × 3 columns</p>\n",
       "</div>"
      ],
      "text/plain": [
       "      0             1                                2\n",
       "38    A  19:21:42.311     \"Notifications enabled\" sent\n",
       "41    A  19:21:43.999               \"(0x) 01\" received\n",
       "43    A  19:21:46.024               \"(0x) 01\" received\n",
       "45    A  19:21:48.004               \"(0x) 01\" received\n",
       "49    A  19:21:49.737  \"Between 0 to 1000 Hz\" received\n",
       "...  ..           ...                              ...\n",
       "1044  A  19:37:59.051         \"(0x) 01-AB-2C\" received\n",
       "1046  A  19:38:01.078         \"(0x) 01-AC-2C\" received\n",
       "1048  A  19:38:03.059         \"(0x) 01-AD-2C\" received\n",
       "1050  A  19:38:05.086         \"(0x) 01-AE-2C\" received\n",
       "1052  A  19:38:07.063         \"(0x) 01-AF-2C\" received\n",
       "\n",
       "[472 rows x 3 columns]"
      ]
     },
     "execution_count": 457,
     "metadata": {},
     "output_type": "execute_result"
    }
   ],
   "source": [
    "f = open(\"210214_mpu6050_2.txt\", \"r\") #open a text file in \"read only\" mode\n",
    "f1=f.read() #storing the file data into a variable as String\n",
    "\n",
    "f2=f1.split(\"\\n\") #Splitting the data at every line \n",
    "f3=pd.DataFrame({\"raw_data\":f2,\"index\":0}) #Creating a DataFrame to store the split data into different lines \n",
    "\n",
    "f4=f3  # Just a  intermediary variable\n",
    "\n",
    "#filters out the values which has \"A\" as an index in the first column\n",
    "f5=f4.set_index('raw_data').filter(regex='^A', axis=0) \n",
    "\n",
    "f7 = f6[f6[0]==\"A\"] \n",
    "f7"
   ]
  },
  {
   "cell_type": "markdown",
   "metadata": {},
   "source": [
    "As you see, this data has lots of unwanted things and the index on the left is alternating numbers and it might even contain NAN values. \n",
    "Time for additional processing. "
   ]
  },
  {
   "cell_type": "code",
   "execution_count": 444,
   "metadata": {},
   "outputs": [],
   "source": [
    "\n",
    "index = list(range(1, 429))\n",
    "\n"
   ]
  },
  {
   "cell_type": "code",
   "execution_count": 458,
   "metadata": {},
   "outputs": [
    {
     "data": {
      "text/html": [
       "<div>\n",
       "<style scoped>\n",
       "    .dataframe tbody tr th:only-of-type {\n",
       "        vertical-align: middle;\n",
       "    }\n",
       "\n",
       "    .dataframe tbody tr th {\n",
       "        vertical-align: top;\n",
       "    }\n",
       "\n",
       "    .dataframe thead th {\n",
       "        text-align: right;\n",
       "    }\n",
       "</style>\n",
       "<table border=\"1\" class=\"dataframe\">\n",
       "  <thead>\n",
       "    <tr style=\"text-align: right;\">\n",
       "      <th></th>\n",
       "      <th>0</th>\n",
       "      <th>1</th>\n",
       "      <th>2</th>\n",
       "    </tr>\n",
       "  </thead>\n",
       "  <tbody>\n",
       "    <tr>\n",
       "      <th>count</th>\n",
       "      <td>428</td>\n",
       "      <td>428</td>\n",
       "      <td>428</td>\n",
       "    </tr>\n",
       "    <tr>\n",
       "      <th>unique</th>\n",
       "      <td>1</td>\n",
       "      <td>256</td>\n",
       "      <td>1</td>\n",
       "    </tr>\n",
       "    <tr>\n",
       "      <th>top</th>\n",
       "      <td>01</td>\n",
       "      <td>8B</td>\n",
       "      <td>2C</td>\n",
       "    </tr>\n",
       "    <tr>\n",
       "      <th>freq</th>\n",
       "      <td>428</td>\n",
       "      <td>2</td>\n",
       "      <td>428</td>\n",
       "    </tr>\n",
       "  </tbody>\n",
       "</table>\n",
       "</div>"
      ],
      "text/plain": [
       "          0    1    2\n",
       "count   428  428  428\n",
       "unique    1  256    1\n",
       "top      01   8B   2C\n",
       "freq    428    2  428"
      ]
     },
     "execution_count": 458,
     "metadata": {},
     "output_type": "execute_result"
    }
   ],
   "source": [
    " \n",
    "f6=f4[\"raw_data\"].str.split(\"\\t\", n = 2, expand = True) #Splitting raw data values in two at every space(\"\\t\")\n",
    "f8=pd.DataFrame(columns=[\"time\",\"hex_data\"]) \n",
    "f8[\"hex_data\"]=f7[2].str[5:14]  # In column no 2 (actually 3)\n",
    "# 5:14 comes from our observation that the data starts at 5 and ends at 14 \n",
    "# It ignores rest of the values\n",
    "\n",
    "f8[\"time\"] = f7[1] \n",
    "f9=f8[\"hex_data\"].str.split(\"\\-\", n = 2, expand = True) \n",
    "#Splitting data values in two at every space(\"\\-\") into 3 different acceleration values\n",
    "\n",
    "f9=f9.dropna() #dropping the NAN Values\n",
    "f9.describe()\n"
   ]
  },
  {
   "cell_type": "code",
   "execution_count": 467,
   "metadata": {},
   "outputs": [
    {
     "data": {
      "text/html": [
       "<div>\n",
       "<style scoped>\n",
       "    .dataframe tbody tr th:only-of-type {\n",
       "        vertical-align: middle;\n",
       "    }\n",
       "\n",
       "    .dataframe tbody tr th {\n",
       "        vertical-align: top;\n",
       "    }\n",
       "\n",
       "    .dataframe thead th {\n",
       "        text-align: right;\n",
       "    }\n",
       "</style>\n",
       "<table border=\"1\" class=\"dataframe\">\n",
       "  <thead>\n",
       "    <tr style=\"text-align: right;\">\n",
       "      <th></th>\n",
       "      <th>time</th>\n",
       "      <th>Acc_X</th>\n",
       "      <th>Acc_Y</th>\n",
       "      <th>Acc_Z</th>\n",
       "      <th>Index</th>\n",
       "    </tr>\n",
       "  </thead>\n",
       "  <tbody>\n",
       "    <tr>\n",
       "      <th>165</th>\n",
       "      <td>19:23:52.655</td>\n",
       "      <td>01</td>\n",
       "      <td>04</td>\n",
       "      <td>2C</td>\n",
       "      <td>1</td>\n",
       "    </tr>\n",
       "    <tr>\n",
       "      <th>171</th>\n",
       "      <td>19:23:54.676</td>\n",
       "      <td>01</td>\n",
       "      <td>05</td>\n",
       "      <td>2C</td>\n",
       "      <td>2</td>\n",
       "    </tr>\n",
       "    <tr>\n",
       "      <th>177</th>\n",
       "      <td>19:23:56.637</td>\n",
       "      <td>01</td>\n",
       "      <td>06</td>\n",
       "      <td>2C</td>\n",
       "      <td>3</td>\n",
       "    </tr>\n",
       "    <tr>\n",
       "      <th>179</th>\n",
       "      <td>19:23:58.681</td>\n",
       "      <td>01</td>\n",
       "      <td>07</td>\n",
       "      <td>2C</td>\n",
       "      <td>4</td>\n",
       "    </tr>\n",
       "    <tr>\n",
       "      <th>181</th>\n",
       "      <td>19:24:00.663</td>\n",
       "      <td>01</td>\n",
       "      <td>08</td>\n",
       "      <td>2C</td>\n",
       "      <td>5</td>\n",
       "    </tr>\n",
       "    <tr>\n",
       "      <th>...</th>\n",
       "      <td>...</td>\n",
       "      <td>...</td>\n",
       "      <td>...</td>\n",
       "      <td>...</td>\n",
       "      <td>...</td>\n",
       "    </tr>\n",
       "    <tr>\n",
       "      <th>1044</th>\n",
       "      <td>19:37:59.051</td>\n",
       "      <td>01</td>\n",
       "      <td>AB</td>\n",
       "      <td>2C</td>\n",
       "      <td>424</td>\n",
       "    </tr>\n",
       "    <tr>\n",
       "      <th>1046</th>\n",
       "      <td>19:38:01.078</td>\n",
       "      <td>01</td>\n",
       "      <td>AC</td>\n",
       "      <td>2C</td>\n",
       "      <td>425</td>\n",
       "    </tr>\n",
       "    <tr>\n",
       "      <th>1048</th>\n",
       "      <td>19:38:03.059</td>\n",
       "      <td>01</td>\n",
       "      <td>AD</td>\n",
       "      <td>2C</td>\n",
       "      <td>426</td>\n",
       "    </tr>\n",
       "    <tr>\n",
       "      <th>1050</th>\n",
       "      <td>19:38:05.086</td>\n",
       "      <td>01</td>\n",
       "      <td>AE</td>\n",
       "      <td>2C</td>\n",
       "      <td>427</td>\n",
       "    </tr>\n",
       "    <tr>\n",
       "      <th>1052</th>\n",
       "      <td>19:38:07.063</td>\n",
       "      <td>01</td>\n",
       "      <td>AF</td>\n",
       "      <td>2C</td>\n",
       "      <td>428</td>\n",
       "    </tr>\n",
       "  </tbody>\n",
       "</table>\n",
       "<p>428 rows × 5 columns</p>\n",
       "</div>"
      ],
      "text/plain": [
       "              time Acc_X Acc_Y Acc_Z  Index\n",
       "165   19:23:52.655    01    04    2C      1\n",
       "171   19:23:54.676    01    05    2C      2\n",
       "177   19:23:56.637    01    06    2C      3\n",
       "179   19:23:58.681    01    07    2C      4\n",
       "181   19:24:00.663    01    08    2C      5\n",
       "...            ...   ...   ...   ...    ...\n",
       "1044  19:37:59.051    01    AB    2C    424\n",
       "1046  19:38:01.078    01    AC    2C    425\n",
       "1048  19:38:03.059    01    AD    2C    426\n",
       "1050  19:38:05.086    01    AE    2C    427\n",
       "1052  19:38:07.063    01    AF    2C    428\n",
       "\n",
       "[428 rows x 5 columns]"
      ]
     },
     "execution_count": 467,
     "metadata": {},
     "output_type": "execute_result"
    }
   ],
   "source": [
    "#Note the 428 values as frequency. We need a list of that size to have a standard index for the same length\n",
    "\n",
    "index = list(range(1, 429))\n",
    "f10 = pd.DataFrame (columns=[\"time\",\"Acc_X\",\"Acc_Y\",\"Acc_Z\"]) #Creating our final DataFrame\n",
    "f10[\"time\"]= f8[\"time\"]\n",
    "f10[\"Acc_X\"] = (f9[0])\n",
    "f10[\"Acc_Y\"] = (f9[1])\n",
    "f10[\"Acc_Z\"] = (f9[2])\n",
    "\n",
    "f10=f10.dropna()\n",
    "f10[\"Index\"] = index\n",
    "f10"
   ]
  },
  {
   "cell_type": "code",
   "execution_count": 468,
   "metadata": {},
   "outputs": [],
   "source": [
    "#Converting the columns to integer from base 16 \n",
    "f10['Acc_X'] = f10['Acc_X'].apply(lambda x: int(x,16))\n",
    "f10['Acc_Y'] = f10['Acc_Y'].apply(lambda x: int(x,16))\n",
    "f10['Acc_Z'] = f10['Acc_Z'].apply(lambda x: int(x,16))"
   ]
  },
  {
   "cell_type": "code",
   "execution_count": 470,
   "metadata": {},
   "outputs": [
    {
     "data": {
      "text/plain": [
       "165       4\n",
       "171       5\n",
       "177       6\n",
       "179       7\n",
       "181       8\n",
       "       ... \n",
       "1044    171\n",
       "1046    172\n",
       "1048    173\n",
       "1050    174\n",
       "1052    175\n",
       "Name: Acc_Y, Length: 428, dtype: int64"
      ]
     },
     "execution_count": 470,
     "metadata": {},
     "output_type": "execute_result"
    }
   ],
   "source": [
    "#test\n",
    "f10[\"Acc_Y\"]"
   ]
  },
  {
   "cell_type": "code",
   "execution_count": 471,
   "metadata": {},
   "outputs": [
    {
     "data": {
      "text/plain": [
       "[<matplotlib.lines.Line2D at 0x1da140c1ac8>]"
      ]
     },
     "execution_count": 471,
     "metadata": {},
     "output_type": "execute_result"
    },
    {
     "data": {
      "image/png": "[encoded data removed]",
      "text/plain": [
       "<Figure size 432x288 with 1 Axes>"
      ]
     },
     "metadata": {
      "needs_background": "light"
     },
     "output_type": "display_data"
    }
   ],
   "source": [
    "plt.plot(f10[\"time\"], f10[\"Acc_Y\"]) "
   ]
  },
  {
   "cell_type": "code",
   "execution_count": null,
   "metadata": {},
   "outputs": [],
   "source": []
  }
 ],
 "metadata": {
  "kernelspec": {
   "display_name": "Python 3",
   "language": "python",
   "name": "python3"
  },
  "language_info": {
   "codemirror_mode": {
    "name": "ipython",
    "version": 3
   },
   "file_extension": ".py",
   "mimetype": "text/x-python",
   "name": "python",
   "nbconvert_exporter": "python",
   "pygments_lexer": "ipython3",
   "version": "3.6.12"
  }
 },
 "nbformat": 4,
 "nbformat_minor": 4
}
